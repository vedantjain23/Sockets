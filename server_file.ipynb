{
 "cells": [
  {
   "cell_type": "code",
   "execution_count": 5,
   "metadata": {},
   "outputs": [
    {
     "name": "stdout",
     "output_type": "stream",
     "text": [
      "server is created\n",
      "it is ready to listen ----->\n",
      "ip connected is ---> ('127.0.0.1', 52592)\n"
     ]
    }
   ],
   "source": [
    "import socket\n",
    "import os\n",
    "server = socket.socket()\n",
    "print(\"server is created\")\n",
    "host = socket.gethostbyname(socket.gethostname())\n",
    "server.bind((host,9999))\n",
    "server.listen(5)\n",
    "print(\"it is ready to listen ----->\")\n",
    "client,address = server.accept()\n",
    "print(f\"ip connected is --->\",address)\n",
    "file_name = client.recv(15360).decode()\n",
    "if os.path.exists(file_name) and os.path.isfile(file_name):\n",
    "    msg = \"true\"\n",
    "    client.send(msg.encode())\n",
    "    send_file = open(file_name,'rb')\n",
    "    for i in send_file:\n",
    "        client.send(i)\n",
    "    else:\n",
    "        print(\"File is saved successfully!!!!!!\")\n",
    "        print(\"Server is closing.....\")\n",
    "        print(\"Client is closing.....\")\n",
    "        server.close()\n",
    "        client.close()\n",
    "else:\n",
    "    client.close()\n",
    "    server.close()\n"
   ]
  },
  {
   "cell_type": "code",
   "execution_count": null,
   "metadata": {},
   "outputs": [],
   "source": []
  }
 ],
 "metadata": {
  "kernelspec": {
   "display_name": "Python 3",
   "language": "python",
   "name": "python3"
  },
  "language_info": {
   "codemirror_mode": {
    "name": "ipython",
    "version": 3
   },
   "file_extension": ".py",
   "mimetype": "text/x-python",
   "name": "python",
   "nbconvert_exporter": "python",
   "pygments_lexer": "ipython3",
   "version": "3.7.3"
  }
 },
 "nbformat": 4,
 "nbformat_minor": 2
}
