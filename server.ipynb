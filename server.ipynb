{
 "cells": [
  {
   "cell_type": "code",
   "execution_count": 1,
   "metadata": {},
   "outputs": [],
   "source": [
    "import socket"
   ]
  },
  {
   "cell_type": "code",
   "execution_count": 2,
   "metadata": {},
   "outputs": [
    {
     "name": "stdout",
     "output_type": "stream",
     "text": [
      "socket is created\n",
      "waiting for a connections\n",
      "Client is connected ('127.0.0.1', 56686)\n",
      "23 23\n",
      "add\n",
      "Client is connected ('127.0.0.1', 56689)\n",
      "56 12\n",
      "sub\n",
      "Client is connected ('127.0.0.1', 56690)\n",
      "56 ^\n",
      "t\n"
     ]
    }
   ],
   "source": [
    "server = socket.socket()\n",
    "print(\"socket is created\")\n",
    "server.bind(('localhost',9999))\n",
    "server.listen(3)\n",
    "print(\"waiting for a connections\")\n",
    "while True:\n",
    "    client,address = server.accept()\n",
    "    no = client.recv(1024).decode()\n",
    "    no1 = client.recv(1024).decode()\n",
    "    ch = client.recv(1024).decode()\n",
    "    print(\"Client is connected\",address)\n",
    "    print(no,no1)\n",
    "    print(ch)\n",
    "    if(ch == \"add\"):\n",
    "        ans = int(no)+int(no1)\n",
    "        client.send(bytes(str(ans),\"utf-8\"))\n",
    "    elif(ch == \"sub\"):\n",
    "        ans1 = int(no)-int(no1)\n",
    "        client.send(bytes(str(ans1),\"utf-8\"))\n",
    "    elif(ch == \"mul\"):\n",
    "        ans2 = int(no)*int(no1)\n",
    "        client.send(bytes(str(ans2),\"utf-8\"))\n",
    "    elif(ch == \"div\"):\n",
    "        ans3 = int(no)//int(no1)\n",
    "        client.send(bytes(str(ans3),\"utf-8\"))\n",
    "    #client.send(bytes(\"welcome to the world\",\"utf-8\"))\n",
    "    else:\n",
    "        client.send(bytes(\"Server is closing\",\"utf-8\"))\n",
    "        client.close()\n",
    "        break\n",
    "    client.close()"
   ]
  },
  {
   "cell_type": "code",
   "execution_count": 3,
   "metadata": {},
   "outputs": [
    {
     "name": "stdout",
     "output_type": "stream",
     "text": [
      "socket is created\n",
      "The server socket is created at ip 172.20.10.5 and port 9999\n",
      "waiting for a connections\n",
      "Client is connected ('172.20.10.5', 56692)\n",
      "45 78\n",
      "add\n",
      "Client is connected ('172.20.10.5', 56693)\n",
      "98 89\n",
      "w\n"
     ]
    }
   ],
   "source": [
    "server = socket.socket()\n",
    "print(\"socket is created\")\n",
    "#host = \"192.168.43.148\"\n",
    "host = socket.gethostbyname(socket.gethostname())\n",
    "port = 9999\n",
    "print(\"The server socket is created at ip {} and port {}\".format(host,port))\n",
    "server.bind((host,port))\n",
    "server.listen(3)\n",
    "print(\"waiting for a connections\")\n",
    "while True:\n",
    "    client,address = server.accept()\n",
    "    no = client.recv(1024).decode()\n",
    "    no1 = client.recv(1024).decode()\n",
    "    ch = client.recv(1024).decode()\n",
    "    print(\"Client is connected\",address)\n",
    "    print(no,no1)\n",
    "    print(ch)\n",
    "    if(ch == \"add\"):\n",
    "        ans = int(no)+int(no1)\n",
    "        client.send(bytes(str(ans),\"utf-8\"))\n",
    "    elif(ch == \"sub\"):\n",
    "        ans1 = int(no)-int(no1)\n",
    "        client.send(bytes(str(ans1),\"utf-8\"))\n",
    "    elif(ch == \"mul\"):\n",
    "        ans2 = int(no)*int(no1)\n",
    "        client.send(bytes(str(ans2),\"utf-8\"))\n",
    "    elif(ch == \"div\"):\n",
    "        ans3 = int(no)//int(no1)\n",
    "        client.send(bytes(str(ans3),\"utf-8\"))\n",
    "    #client.send(bytes(\"welcome to the world\",\"utf-8\"))\n",
    "    else:\n",
    "        client.send(bytes(\"Server is closing\",\"utf-8\"))\n",
    "        client.close()\n",
    "        break\n",
    "    client.close()"
   ]
  },
  {
   "cell_type": "code",
   "execution_count": 6,
   "metadata": {},
   "outputs": [
    {
     "data": {
      "text/plain": [
       "'LAPTOP-BRPB20R1'"
      ]
     },
     "execution_count": 6,
     "metadata": {},
     "output_type": "execute_result"
    }
   ],
   "source": [
    "socket.gethostname()"
   ]
  },
  {
   "cell_type": "code",
   "execution_count": 8,
   "metadata": {},
   "outputs": [
    {
     "data": {
      "text/plain": [
       "'192.168.43.148'"
      ]
     },
     "execution_count": 8,
     "metadata": {},
     "output_type": "execute_result"
    }
   ],
   "source": [
    "socket.gethostbyname(socket.gethostname())"
   ]
  },
  {
   "cell_type": "code",
   "execution_count": null,
   "metadata": {},
   "outputs": [],
   "source": []
  }
 ],
 "metadata": {
  "kernelspec": {
   "display_name": "Python 3",
   "language": "python",
   "name": "python3"
  },
  "language_info": {
   "codemirror_mode": {
    "name": "ipython",
    "version": 3
   },
   "file_extension": ".py",
   "mimetype": "text/x-python",
   "name": "python",
   "nbconvert_exporter": "python",
   "pygments_lexer": "ipython3",
   "version": "3.7.3"
  }
 },
 "nbformat": 4,
 "nbformat_minor": 2
}
