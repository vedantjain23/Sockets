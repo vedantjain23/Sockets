{
 "cells": [
  {
   "cell_type": "code",
   "execution_count": 3,
   "metadata": {},
   "outputs": [
    {
     "name": "stdout",
     "output_type": "stream",
     "text": [
      "Client is Successfully connected ----> \n",
      "file name which u want ------>ert\n",
      "no such file is available......\n",
      "client is closing......\n"
     ]
    }
   ],
   "source": [
    "import socket\n",
    "import os\n",
    "client = socket.socket()\n",
    "host = socket.gethostbyname(socket.gethostname())\n",
    "client.connect((host,9999))\n",
    "print(\"Client is Successfully connected ----> \")\n",
    "filename = input(\"file name which u want ------>\")\n",
    "client.send(filename.encode())\n",
    "msg = client.recv(1024).decode()\n",
    "if(msg==\"true\"):\n",
    "    print(\"file is found and server is sending the file....\")\n",
    "    path = input(\"enter the path where u want to save ur file : \")\n",
    "    if(os.path.exists(path)):\n",
    "        file_name = input(\"enter the filename: \")\n",
    "        ext = filename.split(\".\")[-1]\n",
    "        file_name = file_name+\".\"+ext\n",
    "        final_path = os.path.join(path,file_name)\n",
    "        fp = open(final_path,'wb')\n",
    "        print(final_path)\n",
    "        while True:\n",
    "            count = client.recv(1024)\n",
    "            if not count:\n",
    "                print(\"file is saved successfully\")\n",
    "                break\n",
    "            fp.write(count)\n",
    "        fp.close()\n",
    "    else:\n",
    "        print(\"invalid path.... enter the correct path!!!!!\")\n",
    "        print(\"client is closing......\")\n",
    "else:\n",
    "    print(\"no such file is available......\")\n",
    "    print(\"client is closing......\")\n",
    "    \n"
   ]
  },
  {
   "cell_type": "code",
   "execution_count": null,
   "metadata": {},
   "outputs": [],
   "source": []
  },
  {
   "cell_type": "code",
   "execution_count": null,
   "metadata": {},
   "outputs": [],
   "source": []
  }
 ],
 "metadata": {
  "kernelspec": {
   "display_name": "Python 3",
   "language": "python",
   "name": "python3"
  },
  "language_info": {
   "codemirror_mode": {
    "name": "ipython",
    "version": 3
   },
   "file_extension": ".py",
   "mimetype": "text/x-python",
   "name": "python",
   "nbconvert_exporter": "python",
   "pygments_lexer": "ipython3",
   "version": "3.7.3"
  }
 },
 "nbformat": 4,
 "nbformat_minor": 2
}
