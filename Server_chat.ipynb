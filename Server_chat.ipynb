{
 "cells": [
  {
   "cell_type": "code",
   "execution_count": 1,
   "metadata": {},
   "outputs": [
    {
     "name": "stdout",
     "output_type": "stream",
     "text": [
      "the server socket is created at 127.0.0.1 and port 9999\n",
      "the server is ready to listen........\n",
      "Connected at ----->  ('127.0.0.1', 58017)\n",
      "Server: hiii\n",
      "Client :  hello\n",
      "Server: bye\n",
      "Connection is closed by server......\n"
     ]
    }
   ],
   "source": [
    "import socket\n",
    "server = socket.socket()\n",
    "host = socket.gethostbyname(socket.gethostname())\n",
    "port = 9999\n",
    "print(\"the server socket is created at {} and port {}\".format(host,port))\n",
    "server.bind((host,port))\n",
    "server.listen()\n",
    "print(\"the server is ready to listen........\")\n",
    "client,address = server.accept()\n",
    "print(\"Connected at -----> \",address)\n",
    "\n",
    "while True:\n",
    "    s_message = input(\"Server: \")\n",
    "    client.send(s_message.encode())\n",
    "    if(s_message.strip().lower()==\"bye\"):\n",
    "        print(\"Connection is closed by server......\")\n",
    "        client.close()\n",
    "        server.close()\n",
    "        break\n",
    "    c_message = client.recv(1024)\n",
    "    print(\"Client : \",c_message.decode())\n",
    "    if(c_message.decode().strip().lower()==\"bye\"):\n",
    "        print(\"Connection is closed by client.......\")\n",
    "        client.close()\n",
    "        server.close()\n",
    "        break"
   ]
  },
  {
   "cell_type": "code",
   "execution_count": null,
   "metadata": {},
   "outputs": [],
   "source": []
  }
 ],
 "metadata": {
  "kernelspec": {
   "display_name": "Python 3",
   "language": "python",
   "name": "python3"
  },
  "language_info": {
   "codemirror_mode": {
    "name": "ipython",
    "version": 3
   },
   "file_extension": ".py",
   "mimetype": "text/x-python",
   "name": "python",
   "nbconvert_exporter": "python",
   "pygments_lexer": "ipython3",
   "version": "3.7.3"
  }
 },
 "nbformat": 4,
 "nbformat_minor": 2
}
