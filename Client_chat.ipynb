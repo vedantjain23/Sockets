{
 "cells": [
  {
   "cell_type": "code",
   "execution_count": 1,
   "metadata": {},
   "outputs": [
    {
     "name": "stdout",
     "output_type": "stream",
     "text": [
      "Server :  hiii\n",
      "Client : hello\n",
      "Server :  bye\n",
      "Connection is closed by server....\n"
     ]
    }
   ],
   "source": [
    "import socket\n",
    "client = socket.socket()\n",
    "host = socket.gethostbyname(socket.gethostname())\n",
    "port = 9999\n",
    "client.connect((host,port))\n",
    "while True:\n",
    "    s_message = client.recv(1024)\n",
    "    print(\"Server : \",s_message.decode())\n",
    "    if(s_message.decode().strip().lower()==\"bye\"):\n",
    "        print(\"Connection is closed by server....\")\n",
    "        client.close()\n",
    "        break\n",
    "    c_message = input(\"Client : \")\n",
    "    client.send(c_message.encode())\n",
    "    if(c_message.strip().encode()==\"bye\"):\n",
    "        print(\"Connection is closed by client......\")\n",
    "        client.close()\n",
    "        break\n",
    "    "
   ]
  },
  {
   "cell_type": "code",
   "execution_count": null,
   "metadata": {},
   "outputs": [],
   "source": []
  },
  {
   "cell_type": "code",
   "execution_count": null,
   "metadata": {},
   "outputs": [],
   "source": []
  }
 ],
 "metadata": {
  "kernelspec": {
   "display_name": "Python 3",
   "language": "python",
   "name": "python3"
  },
  "language_info": {
   "codemirror_mode": {
    "name": "ipython",
    "version": 3
   },
   "file_extension": ".py",
   "mimetype": "text/x-python",
   "name": "python",
   "nbconvert_exporter": "python",
   "pygments_lexer": "ipython3",
   "version": "3.7.3"
  }
 },
 "nbformat": 4,
 "nbformat_minor": 2
}
