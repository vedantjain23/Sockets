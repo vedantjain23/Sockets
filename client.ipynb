{
 "cells": [
  {
   "cell_type": "code",
   "execution_count": 1,
   "metadata": {},
   "outputs": [],
   "source": [
    "import socket"
   ]
  },
  {
   "cell_type": "code",
   "execution_count": 6,
   "metadata": {},
   "outputs": [
    {
     "name": "stdout",
     "output_type": "stream",
     "text": [
      "enter the no98\n",
      "enter the no89\n",
      "enter ur choicew\n",
      "Server is closing\n",
      "\n"
     ]
    }
   ],
   "source": [
    "client = socket.socket()\n",
    "#host = \"192.168.43.148\"\n",
    "host = socket.gethostbyname(socket.gethostname())\n",
    "client.connect((host,9999))\n",
    "number = input(\"enter the no\")\n",
    "number1 = input(\"enter the no\")\n",
    "choice = input(\"enter ur choice\")\n",
    "client.send(bytes(number,'utf-8'))\n",
    "client.send(bytes(number1,'utf-8'))\n",
    "client.send(bytes(choice,'utf-8'))\n",
    "print(client.recv(1024).decode())\n",
    "print(client.recv(1024).decode())\n"
   ]
  },
  {
   "cell_type": "code",
   "execution_count": 4,
   "metadata": {},
   "outputs": [
    {
     "name": "stdout",
     "output_type": "stream",
     "text": [
      "enter the no56\n",
      "enter the no^\n",
      "enter ur choicet\n",
      "Server is closing\n",
      "\n"
     ]
    }
   ],
   "source": [
    "client = socket.socket()\n",
    "#host = \"192.168.43.148\"\n",
    "#host = socket.gethostbyname(socket.gethostname())\n",
    "client.connect(('localhost',9999))\n",
    "number = input(\"enter the no\")\n",
    "number1 = input(\"enter the no\")\n",
    "choice = input(\"enter ur choice\")\n",
    "client.send(bytes(number,'utf-8'))\n",
    "client.send(bytes(number1,'utf-8'))\n",
    "client.send(bytes(choice,'utf-8'))\n",
    "print(client.recv(1024).decode())\n",
    "print(client.recv(1024).decode())\n"
   ]
  },
  {
   "cell_type": "code",
   "execution_count": null,
   "metadata": {},
   "outputs": [],
   "source": []
  }
 ],
 "metadata": {
  "kernelspec": {
   "display_name": "Python 3",
   "language": "python",
   "name": "python3"
  },
  "language_info": {
   "codemirror_mode": {
    "name": "ipython",
    "version": 3
   },
   "file_extension": ".py",
   "mimetype": "text/x-python",
   "name": "python",
   "nbconvert_exporter": "python",
   "pygments_lexer": "ipython3",
   "version": "3.7.3"
  }
 },
 "nbformat": 4,
 "nbformat_minor": 2
}
